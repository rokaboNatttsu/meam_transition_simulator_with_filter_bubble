{
 "cells": [
  {
   "cell_type": "code",
   "execution_count": 172,
   "metadata": {},
   "outputs": [],
   "source": [
    "import networkx as nx\n",
    "import matplotlib.pyplot as plt"
   ]
  },
  {
   "cell_type": "code",
   "execution_count": 173,
   "metadata": {},
   "outputs": [
    {
     "data": {
      "image/png": "[encoded data removed]",
      "text/plain": [
       "<Figure size 432x288 with 1 Axes>"
      ]
     },
     "metadata": {},
     "output_type": "display_data"
    }
   ],
   "source": [
    "G = nx.DiGraph()\n",
    "nx.add_path(G, [1,2])\n",
    "nx.add_path(G, [2,3])\n",
    "G.add_nodes_from([\n",
    "    (1, {\"layer\":set([1])}),\n",
    "    (2, {\"layer\":set([1,2])}),\n",
    "    (3, {\"layer\":set([2])}),\n",
    "])\n",
    "nx.draw_networkx(G)\n",
    "plt.show()"
   ]
  },
  {
   "cell_type": "code",
   "execution_count": 174,
   "metadata": {},
   "outputs": [
    {
     "data": {
      "text/plain": [
       "NodeDataView({1: {'layer': {1}}, 2: {'layer': {1, 2}}, 3: {'layer': {2}}})"
      ]
     },
     "execution_count": 174,
     "metadata": {},
     "output_type": "execute_result"
    }
   ],
   "source": [
    "G.nodes.data()"
   ]
  },
  {
   "cell_type": "code",
   "execution_count": 175,
   "metadata": {},
   "outputs": [
    {
     "data": {
      "text/plain": [
       "NodeDataView({1: {1}, 2: {1, 2}, 3: {2}}, data='layer')"
      ]
     },
     "execution_count": 175,
     "metadata": {},
     "output_type": "execute_result"
    }
   ],
   "source": [
    "G.nodes.data(\"layer\")"
   ]
  },
  {
   "cell_type": "code",
   "execution_count": 176,
   "metadata": {},
   "outputs": [
    {
     "name": "stdout",
     "output_type": "stream",
     "text": [
      "1,{1}\n",
      "2,{1, 2}\n",
      "3,{2}\n"
     ]
    }
   ],
   "source": [
    "for node, layer_set in G.nodes.data(\"layer\"):\n",
    "    print(f'{node},{layer_set}')"
   ]
  },
  {
   "cell_type": "code",
   "execution_count": 177,
   "metadata": {},
   "outputs": [
    {
     "name": "stdout",
     "output_type": "stream",
     "text": [
      "1,{1, 3}\n",
      "2,{1, 2}\n",
      "3,{2}\n"
     ]
    }
   ],
   "source": [
    "G.nodes.data(\"layer\")[1].add(3)\n",
    "for node, layer_set in G.nodes.data(\"layer\"):\n",
    "    print(f'{node},{layer_set}')"
   ]
  },
  {
   "cell_type": "code",
   "execution_count": 178,
   "metadata": {},
   "outputs": [
    {
     "name": "stdout",
     "output_type": "stream",
     "text": [
      "1,{1}\n",
      "2,{1, 2}\n",
      "3,{2}\n"
     ]
    }
   ],
   "source": [
    "G.nodes.data(\"layer\")[1].remove(3)\n",
    "for node, layer_set in G.nodes.data(\"layer\"):\n",
    "    print(f'{node},{layer_set}')"
   ]
  },
  {
   "cell_type": "code",
   "execution_count": 179,
   "metadata": {},
   "outputs": [
    {
     "data": {
      "text/plain": [
       "OutEdgeView([(1, 2), (2, 3)])"
      ]
     },
     "execution_count": 179,
     "metadata": {},
     "output_type": "execute_result"
    }
   ],
   "source": [
    "G.edges()"
   ]
  },
  {
   "cell_type": "code",
   "execution_count": 180,
   "metadata": {},
   "outputs": [
    {
     "data": {
      "text/plain": [
       "NodeView((1, 2, 3))"
      ]
     },
     "execution_count": 180,
     "metadata": {},
     "output_type": "execute_result"
    }
   ],
   "source": [
    "G.nodes()"
   ]
  },
  {
   "cell_type": "code",
   "execution_count": 181,
   "metadata": {},
   "outputs": [
    {
     "name": "stdout",
     "output_type": "stream",
     "text": [
      "layer=1\n",
      "edge=(1,2),info={'waight': 1}\n",
      "edge=(2,3),info=None\n",
      "layer=2\n",
      "edge=(1,2),info=None\n",
      "edge=(2,3),info={'waight': 2}\n"
     ]
    }
   ],
   "source": [
    "G.add_edges_from([\n",
    "    (1,2,{0:None, 1:{\"waight\":1}}),\n",
    "    (2,3,{0:None, 2:{\"waight\":2}}),\n",
    "])\n",
    "for layer in range(1,3):\n",
    "    print(f\"layer={layer}\")\n",
    "    for n0,n1,info in G.edges.data(layer):\n",
    "        print(f\"edge=({n0},{n1}),info={info}\")"
   ]
  },
  {
   "cell_type": "code",
   "execution_count": 182,
   "metadata": {},
   "outputs": [
    {
     "data": {
      "text/plain": [
       "OutEdgeDataView([(1, 2, {0: None, 1: {'waight': 1}}), (2, 3, {0: None, 2: {'waight': 2}})])"
      ]
     },
     "execution_count": 182,
     "metadata": {},
     "output_type": "execute_result"
    }
   ],
   "source": [
    "G.edges.data()"
   ]
  },
  {
   "cell_type": "code",
   "execution_count": 183,
   "metadata": {},
   "outputs": [
    {
     "name": "stdout",
     "output_type": "stream",
     "text": [
      "layer=1\n",
      "edge=(1,2),info={'waight': 0}\n",
      "edge=(2,3),info=None\n",
      "layer=2\n",
      "edge=(1,2),info=None\n",
      "edge=(2,3),info={'waight': 2}\n"
     ]
    }
   ],
   "source": [
    "for n1,n2,info in G.edges.data(1):\n",
    "    if info is None:\n",
    "        continue\n",
    "    info[\"waight\"] = 0\n",
    "for layer in range(1,3):\n",
    "    print(f\"layer={layer}\")\n",
    "    for n0,n1,info in G.edges.data(layer):\n",
    "        print(f\"edge=({n0},{n1}),info={info}\")"
   ]
  },
  {
   "cell_type": "code",
   "execution_count": 184,
   "metadata": {},
   "outputs": [],
   "source": [
    "layer_set = set([1,2])"
   ]
  },
  {
   "cell_type": "code",
   "execution_count": 185,
   "metadata": {},
   "outputs": [
    {
     "name": "stdout",
     "output_type": "stream",
     "text": [
      "layer=2\n",
      "edge=(2,3),info={'waight': 2}\n"
     ]
    }
   ],
   "source": [
    "nG = nx.DiGraph()\n",
    "layer_exist = True\n",
    "new_layer_set = set()\n",
    "for layer in layer_set:\n",
    "    layer_exist = False\n",
    "    for i, (n1,n2,info) in enumerate(G.edges.data(layer)):\n",
    "        if info is None:\n",
    "            continue\n",
    "        layer_exist = True\n",
    "        if info[\"waight\"] > 0:\n",
    "            nx.add_path(nG, [n1,n2])\n",
    "            nG.add_edges_from([(n1,n2,{0:None, layer:{\"waight\":info[\"waight\"]}})])\n",
    "            if nG.nodes.data():\n",
    "                nG.add_nodes_from([(n1, {\"layer\":set([layer])})])\n",
    "                nG.add_nodes_from([(n2, {\"layer\":set([layer])})])\n",
    "            else:\n",
    "                if n1 in nG.nodes.data():\n",
    "                    nG.nodes.data()[n1][\"layer\"].add(layer)\n",
    "                else:\n",
    "                    nG.add_nodes_from([(n1, {\"layer\":set([layer])})])\n",
    "                if n2 in nG.nodes.data():\n",
    "                    nG.nodes.data()[n2][\"layer\"].add(layer)\n",
    "                else:\n",
    "                    nG.add_nodes_from([(n2, {\"layer\":set([layer])})])\n",
    "                \n",
    "            new_layer_set.add(layer)\n",
    "    if not layer_exist:\n",
    "        break\n",
    "G = nG\n",
    "layer_set = new_layer_set\n",
    "for layer in layer_set:\n",
    "    print(f\"layer={layer}\")\n",
    "    for n0,n1,info in G.edges.data(layer):\n",
    "        print(f\"edge=({n0},{n1}),info={info}\")"
   ]
  },
  {
   "cell_type": "code",
   "execution_count": 186,
   "metadata": {},
   "outputs": [
    {
     "data": {
      "text/plain": [
       "{'layer': {2}}"
      ]
     },
     "execution_count": 186,
     "metadata": {},
     "output_type": "execute_result"
    }
   ],
   "source": [
    "G.nodes.data()[3]"
   ]
  },
  {
   "cell_type": "code",
   "execution_count": 187,
   "metadata": {},
   "outputs": [
    {
     "data": {
      "text/plain": [
       "NodeDataView({2: {'layer': {2, 3}}, 3: {'layer': {2}}})"
      ]
     },
     "execution_count": 187,
     "metadata": {},
     "output_type": "execute_result"
    }
   ],
   "source": [
    "G.nodes.data()[2][\"layer\"] = G.nodes.data()[2][\"layer\"] | set([3])\n",
    "G.nodes.data()"
   ]
  },
  {
   "cell_type": "code",
   "execution_count": 188,
   "metadata": {},
   "outputs": [
    {
     "data": {
      "text/plain": [
       "OutEdgeDataView([(2, 3, {0: None, 2: {'waight': 2}})])"
      ]
     },
     "execution_count": 188,
     "metadata": {},
     "output_type": "execute_result"
    }
   ],
   "source": [
    "G.edges.data()"
   ]
  },
  {
   "cell_type": "code",
   "execution_count": 189,
   "metadata": {},
   "outputs": [
    {
     "data": {
      "image/png": "[encoded data removed]",
      "text/plain": [
       "<Figure size 432x288 with 1 Axes>"
      ]
     },
     "metadata": {},
     "output_type": "display_data"
    }
   ],
   "source": [
    "nx.draw_networkx(G)\n",
    "plt.show()"
   ]
  },
  {
   "cell_type": "markdown",
   "metadata": {},
   "source": [
    "0: None を消しても構わないか検討"
   ]
  },
  {
   "cell_type": "markdown",
   "metadata": {},
   "source": [
    "nx.DiGraph をレイヤー毎に持っているクラスを定義、このクラスでは\n",
    "①確率的にlayerを削除したり追加したりする\n",
    "②所属がするノードがいるレイヤーだけを持つセットと、所属するノードがいないレイヤーも含めたセットを保持\n",
    "③一つのレイヤーにつき一つのグラフを持ち、更新する\n",
    "④ミームの存在を定義\n",
    "⑤ミームがどのノードのどのレイヤーに属するかを、グラフオブジェクトのノードの情報で保持\n",
    "⑥ミームの同一レイヤーにおけるネットワークでの伝搬\n",
    "⑦各ノードにとっての、ミームの偶発的発生と削除\n",
    "⑧単一ノード内部で、レイヤー間のミームの確率的な伝搬\n",
    "機能を追加する\n",
    "\n"
   ]
  },
  {
   "cell_type": "code",
   "execution_count": 190,
   "metadata": {},
   "outputs": [],
   "source": [
    "G = nx.DiGraph()\n",
    "nx.add_path(G, [1,2])\n",
    "nx.add_path(G, [2,3])\n",
    "nx.add_path(G, [3,1])\n",
    "G.add_nodes_from([\n",
    "    (1, {1:{\"meam\":set([1,2,3])}, 2:{\"meam\":set([3])}}),\n",
    "    (2, {1:{\"meam\":set([1,2])}}),\n",
    "    (3, {2:{\"meam\":set([3])}}),\n",
    "])"
   ]
  },
  {
   "cell_type": "code",
   "execution_count": 191,
   "metadata": {},
   "outputs": [
    {
     "data": {
      "text/plain": [
       "NodeView((1, 2, 3))"
      ]
     },
     "execution_count": 191,
     "metadata": {},
     "output_type": "execute_result"
    }
   ],
   "source": [
    "G.nodes()"
   ]
  },
  {
   "cell_type": "code",
   "execution_count": 192,
   "metadata": {},
   "outputs": [
    {
     "data": {
      "text/plain": [
       "{1: {'meam': {1, 2, 3}}, 2: {'meam': {3}}}"
      ]
     },
     "execution_count": 192,
     "metadata": {},
     "output_type": "execute_result"
    }
   ],
   "source": [
    "G.nodes()[1]"
   ]
  },
  {
   "cell_type": "code",
   "execution_count": 193,
   "metadata": {},
   "outputs": [
    {
     "data": {
      "text/plain": [
       "NodeDataView({1: {1: {'meam': {1, 2, 3}}, 2: {'meam': {3}}}, 2: {1: {'meam': {1, 2}}}, 3: {2: {'meam': {3}}}})"
      ]
     },
     "execution_count": 193,
     "metadata": {},
     "output_type": "execute_result"
    }
   ],
   "source": [
    "G.nodes.data()"
   ]
  },
  {
   "cell_type": "code",
   "execution_count": 194,
   "metadata": {},
   "outputs": [
    {
     "data": {
      "text/plain": [
       "{1: {'meam': {1, 2, 3}}, 2: {'meam': {3}}}"
      ]
     },
     "execution_count": 194,
     "metadata": {},
     "output_type": "execute_result"
    }
   ],
   "source": [
    "G.nodes.data()[1]"
   ]
  },
  {
   "cell_type": "code",
   "execution_count": 195,
   "metadata": {},
   "outputs": [
    {
     "data": {
      "text/plain": [
       "{'meam': {1, 2, 3}}"
      ]
     },
     "execution_count": 195,
     "metadata": {},
     "output_type": "execute_result"
    }
   ],
   "source": [
    "G.nodes()[1][1]"
   ]
  },
  {
   "cell_type": "code",
   "execution_count": 196,
   "metadata": {},
   "outputs": [
    {
     "data": {
      "text/plain": [
       "{1, 2, 3}"
      ]
     },
     "execution_count": 196,
     "metadata": {},
     "output_type": "execute_result"
    }
   ],
   "source": [
    "G.nodes()[1][1][\"meam\"]"
   ]
  },
  {
   "cell_type": "code",
   "execution_count": 197,
   "metadata": {},
   "outputs": [],
   "source": [
    "nx.add_path(G, [4,5])\n",
    "G.add_nodes_from([(4, {2:{\"meam\":set([3])}})])\n",
    "G.nodes()[4][3] = {\"meam\":set([4,5])}"
   ]
  },
  {
   "cell_type": "code",
   "execution_count": 198,
   "metadata": {},
   "outputs": [
    {
     "data": {
      "text/plain": [
       "{2: {'meam': {3}}, 3: {'meam': {4, 5}}}"
      ]
     },
     "execution_count": 198,
     "metadata": {},
     "output_type": "execute_result"
    }
   ],
   "source": [
    "G.nodes()[4]"
   ]
  },
  {
   "cell_type": "code",
   "execution_count": 199,
   "metadata": {},
   "outputs": [
    {
     "data": {
      "text/plain": [
       "{}"
      ]
     },
     "execution_count": 199,
     "metadata": {},
     "output_type": "execute_result"
    }
   ],
   "source": [
    "G.nodes.data()[5]"
   ]
  },
  {
   "cell_type": "code",
   "execution_count": 200,
   "metadata": {},
   "outputs": [
    {
     "data": {
      "text/plain": [
       "{'meam': {1, 2, 3}}"
      ]
     },
     "execution_count": 200,
     "metadata": {},
     "output_type": "execute_result"
    }
   ],
   "source": [
    "G.nodes()[1][1]"
   ]
  },
  {
   "cell_type": "code",
   "execution_count": 201,
   "metadata": {},
   "outputs": [
    {
     "data": {
      "text/plain": [
       "{1: {'meam': {1, 2, 3}}, 2: {'meam': {3}}, 3: {'meam': set()}}"
      ]
     },
     "execution_count": 201,
     "metadata": {},
     "output_type": "execute_result"
    }
   ],
   "source": [
    "G.nodes()[1][3] = {\"meam\":set()}\n",
    "G.nodes()[1]"
   ]
  },
  {
   "cell_type": "code",
   "execution_count": 202,
   "metadata": {},
   "outputs": [
    {
     "data": {
      "text/plain": [
       "OutEdgeDataView([(1, 2, {}), (2, 3, {}), (3, 1, {}), (4, 5, {})])"
      ]
     },
     "execution_count": 202,
     "metadata": {},
     "output_type": "execute_result"
    }
   ],
   "source": [
    "G.edges.data()"
   ]
  },
  {
   "cell_type": "code",
   "execution_count": 203,
   "metadata": {},
   "outputs": [
    {
     "data": {
      "text/plain": [
       "OutEdgeDataView([(1, 2, {}), (2, 3, {}), (3, 1, {}), (4, 5, {})])"
      ]
     },
     "execution_count": 203,
     "metadata": {},
     "output_type": "execute_result"
    }
   ],
   "source": [
    "G.edges.data()"
   ]
  },
  {
   "cell_type": "code",
   "execution_count": 204,
   "metadata": {},
   "outputs": [
    {
     "data": {
      "text/plain": [
       "OutEdgeDataView([(1, 2, {}), (2, 3, {1: {'waight': 1}}), (3, 1, {}), (4, 5, {2: {'waight': 2}})])"
      ]
     },
     "execution_count": 204,
     "metadata": {},
     "output_type": "execute_result"
    }
   ],
   "source": [
    "G.add_edges_from([(2,3,{1:{\"waight\":1}})])\n",
    "G.add_edges_from([(4,5,{2:{\"waight\":2}})])\n",
    "G.edges.data()"
   ]
  },
  {
   "cell_type": "code",
   "execution_count": 205,
   "metadata": {},
   "outputs": [
    {
     "data": {
      "text/plain": [
       "OutEdgeDataView([(1, 2, None), (2, 3, {'waight': 1}), (3, 1, None), (4, 5, None)])"
      ]
     },
     "execution_count": 205,
     "metadata": {},
     "output_type": "execute_result"
    }
   ],
   "source": [
    "G.edges.data(1)"
   ]
  },
  {
   "cell_type": "code",
   "execution_count": 206,
   "metadata": {},
   "outputs": [
    {
     "data": {
      "text/plain": [
       "OutEdgeDataView([(1, 2, None), (2, 3, None), (3, 1, None), (4, 5, {'waight': 2})])"
      ]
     },
     "execution_count": 206,
     "metadata": {},
     "output_type": "execute_result"
    }
   ],
   "source": [
    "G.edges.data(2)"
   ]
  },
  {
   "cell_type": "code",
   "execution_count": 207,
   "metadata": {},
   "outputs": [
    {
     "name": "stdout",
     "output_type": "stream",
     "text": [
      "(1, 2) {}\n",
      "(2, 3) {1: {'waight': 1}}\n",
      "(3, 1) {}\n",
      "(4, 5) {2: {'waight': 2}}\n"
     ]
    }
   ],
   "source": [
    "for n0, n1, info in G.edges.data():\n",
    "    print((n0,n1), info)"
   ]
  },
  {
   "cell_type": "code",
   "execution_count": 208,
   "metadata": {},
   "outputs": [
    {
     "name": "stdout",
     "output_type": "stream",
     "text": [
      "(1, 2) {}\n",
      "(2, 3) {1: {'waight': 2}}\n",
      "(3, 1) {}\n",
      "(4, 5) {2: {'waight': 3}}\n"
     ]
    }
   ],
   "source": [
    "for n0, n1, info in G.edges.data():\n",
    "    for layer in info:\n",
    "        w = info[layer][\"waight\"]\n",
    "        info[layer][\"waight\"] += 1\n",
    "    print((n0,n1), info)"
   ]
  },
  {
   "cell_type": "code",
   "execution_count": 209,
   "metadata": {},
   "outputs": [
    {
     "data": {
      "text/plain": [
       "OutEdgeView([(1, 2), (3, 1), (4, 5)])"
      ]
     },
     "execution_count": 209,
     "metadata": {},
     "output_type": "execute_result"
    }
   ],
   "source": [
    "G.remove_edge(2,3)\n",
    "G.edges()"
   ]
  },
  {
   "cell_type": "code",
   "execution_count": 210,
   "metadata": {},
   "outputs": [
    {
     "data": {
      "text/plain": [
       "[(1, 2), (3, 1), (4, 5)]"
      ]
     },
     "execution_count": 210,
     "metadata": {},
     "output_type": "execute_result"
    }
   ],
   "source": [
    "list(G.edges())"
   ]
  },
  {
   "cell_type": "code",
   "execution_count": 216,
   "metadata": {},
   "outputs": [
    {
     "data": {
      "text/plain": [
       "NodeDataView({1: {1: {'meam': {1, 2, 3}}, 2: {'meam': {3}}, 3: {'meam': set()}}, 2: {1: {'meam': {1, 2}}}, 3: {2: {'meam': {3}}}, 4: {2: {'meam': {3}}, 3: {'meam': {4, 5}}}, 5: {}})"
      ]
     },
     "execution_count": 216,
     "metadata": {},
     "output_type": "execute_result"
    }
   ],
   "source": [
    "G.nodes.data()"
   ]
  },
  {
   "cell_type": "code",
   "execution_count": 217,
   "metadata": {},
   "outputs": [
    {
     "data": {
      "text/plain": [
       "{1: {'meam': {1, 2, 3}}, 2: {'meam': {3}}, 3: {'meam': set()}}"
      ]
     },
     "execution_count": 217,
     "metadata": {},
     "output_type": "execute_result"
    }
   ],
   "source": [
    "G.nodes.data()[1]"
   ]
  },
  {
   "cell_type": "code",
   "execution_count": 212,
   "metadata": {},
   "outputs": [
    {
     "data": {
      "text/plain": [
       "{1, 2, 3}"
      ]
     },
     "execution_count": 212,
     "metadata": {},
     "output_type": "execute_result"
    }
   ],
   "source": [
    "set([1,2,3]) - set([4])"
   ]
  },
  {
   "cell_type": "code",
   "execution_count": 213,
   "metadata": {},
   "outputs": [
    {
     "data": {
      "text/plain": [
       "dict_values([{2: 4}, {3: 6}])"
      ]
     },
     "execution_count": 213,
     "metadata": {},
     "output_type": "execute_result"
    }
   ],
   "source": [
    "d = {1:{2:4},2:{3:6}}\n",
    "d.values()"
   ]
  },
  {
   "cell_type": "code",
   "execution_count": null,
   "metadata": {},
   "outputs": [],
   "source": []
  }
 ],
 "metadata": {
  "kernelspec": {
   "display_name": "Python 3.10.4 ('.jupyter_env': venv)",
   "language": "python",
   "name": "python3"
  },
  "language_info": {
   "codemirror_mode": {
    "name": "ipython",
    "version": 3
   },
   "file_extension": ".py",
   "mimetype": "text/x-python",
   "name": "python",
   "nbconvert_exporter": "python",
   "pygments_lexer": "ipython3",
   "version": "3.10.4"
  },
  "orig_nbformat": 4,
  "vscode": {
   "interpreter": {
    "hash": "1d79d47b9e09916282e80d76f5dda9787d541e37fc5360372eab0d1a1f7e05d3"
   }
  }
 },
 "nbformat": 4,
 "nbformat_minor": 2
}
